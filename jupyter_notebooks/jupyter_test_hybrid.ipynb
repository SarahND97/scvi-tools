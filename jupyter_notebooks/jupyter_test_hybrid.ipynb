{
 "cells": [
  {
   "cell_type": "markdown",
   "metadata": {},
   "source": [
    "# Handle B-Cell Data with HybridVAE"
   ]
  },
  {
   "cell_type": "code",
   "execution_count": 9,
   "metadata": {},
   "outputs": [
    {
     "ename": "ImportError",
     "evalue": "cannot import name 'HYBRIDVI' from 'scvi.model' (/opt/homebrew/anaconda3/envs/scvi_tools/lib/python3.8/site-packages/scvi/model/__init__.py)",
     "output_type": "error",
     "traceback": [
      "\u001b[0;31m---------------------------------------------------------------------------\u001b[0m",
      "\u001b[0;31mImportError\u001b[0m                               Traceback (most recent call last)",
      "\u001b[0;32m/var/folders/wp/13tt27g107v6hmkj5gntjlfc0000gn/T/ipykernel_5243/3208345579.py\u001b[0m in \u001b[0;36m<module>\u001b[0;34m\u001b[0m\n\u001b[1;32m      3\u001b[0m \u001b[0;31m# import hybridvi\u001b[0m\u001b[0;34m\u001b[0m\u001b[0;34m\u001b[0m\u001b[0;34m\u001b[0m\u001b[0m\n\u001b[1;32m      4\u001b[0m \u001b[0;32mimport\u001b[0m \u001b[0mscvi\u001b[0m\u001b[0;34m\u001b[0m\u001b[0;34m\u001b[0m\u001b[0m\n\u001b[0;32m----> 5\u001b[0;31m \u001b[0;32mfrom\u001b[0m \u001b[0mscvi\u001b[0m\u001b[0;34m.\u001b[0m\u001b[0mmodel\u001b[0m \u001b[0;32mimport\u001b[0m \u001b[0mHYBRIDVI\u001b[0m\u001b[0;34m\u001b[0m\u001b[0;34m\u001b[0m\u001b[0m\n\u001b[0m\u001b[1;32m      6\u001b[0m \u001b[0;31m# import scvi.model.HYBRIDVI\u001b[0m\u001b[0;34m\u001b[0m\u001b[0;34m\u001b[0m\u001b[0;34m\u001b[0m\u001b[0m\n\u001b[1;32m      7\u001b[0m \u001b[0;31m# import scvi.module as module\u001b[0m\u001b[0;34m\u001b[0m\u001b[0;34m\u001b[0m\u001b[0;34m\u001b[0m\u001b[0m\n",
      "\u001b[0;31mImportError\u001b[0m: cannot import name 'HYBRIDVI' from 'scvi.model' (/opt/homebrew/anaconda3/envs/scvi_tools/lib/python3.8/site-packages/scvi/model/__init__.py)"
     ]
    }
   ],
   "source": [
    "import sys\n",
    "sys.path.append(\"/Users/sarahnarrowedanielsson/Documents/KTH/Exjobb/svci-tools\") \n",
    "# import hybridvi\n",
    "import scvi\n",
    "from scvi.model import HYBRIDVI\n",
    "# import scvi.model.HYBRIDVI\n",
    "# import scvi.module as module\n",
    "from os import path\n",
    "import scanpy as sc\n",
    "\n",
    "import math\n",
    "import anndata\n",
    "\n",
    "# matplotlib inline\n",
    "import matplotlib.pyplot as plt\n",
    "import matplotlib.colors\n",
    "plt.style.use('seaborn-whitegrid')\n",
    "import numpy as np\n",
    "\n",
    "import pandas as pd"
   ]
  },
  {
   "cell_type": "markdown",
   "metadata": {},
   "source": [
    "## Prepare Data "
   ]
  },
  {
   "cell_type": "code",
   "execution_count": 4,
   "metadata": {},
   "outputs": [
    {
     "name": "stderr",
     "output_type": "stream",
     "text": [
      "Variable names are not unique. To make them unique, call `.var_names_make_unique`.\n",
      "Variable names are not unique. To make them unique, call `.var_names_make_unique`.\n",
      "Variable names are not unique. To make them unique, call `.var_names_make_unique`.\n",
      "Variable names are not unique. To make them unique, call `.var_names_make_unique`.\n"
     ]
    },
    {
     "name": "stdout",
     "output_type": "stream",
     "text": [
      "\u001b[34mINFO    \u001b[0m No batch_key inputted, assuming all cells are same batch               \n",
      "\u001b[34mINFO    \u001b[0m No label_key inputted, assuming all cells have same label              \n",
      "\u001b[34mINFO    \u001b[0m Using data from adata.layers\u001b[1m[\u001b[0m\u001b[32m\"counts\"\u001b[0m\u001b[1m]\u001b[0m                                 \n",
      "\u001b[34mINFO    \u001b[0m Computing library size prior per batch                                 \n",
      "\u001b[34mINFO    \u001b[0m Successfully registered anndata object containing \u001b[1;36m9822\u001b[0m cells, \u001b[1;36m21404\u001b[0m    \n",
      "         vars, \u001b[1;36m1\u001b[0m batches, \u001b[1;36m1\u001b[0m labels, and \u001b[1;36m0\u001b[0m proteins. Also registered \u001b[1;36m0\u001b[0m extra     \n",
      "         categorical covariates and \u001b[1;36m0\u001b[0m extra continuous covariates.              \n",
      "\u001b[34mINFO    \u001b[0m Please do not further modify adata until model is trained.             \n"
     ]
    }
   ],
   "source": [
    "def concatenate_adatas(list_adata):\n",
    "    return anndata.AnnData.concatenate(*list_adata,batch_key='batch')\n",
    "\n",
    "datasets =[\n",
    "    \"SRR11816791\",\n",
    "    \"SRR11816792\"\n",
    "]\n",
    "\n",
    "list_adata=[]\n",
    "for i in range(len(datasets)):\n",
    "    fname = \"../data/\"+datasets[i]+\"/filtered_feature_bc_matrix.h5\"\n",
    "    adata = sc.read_10x_h5(fname)\n",
    "    adata.var_names_make_unique()\n",
    "    adata.obs[\"dataset\"] = datasets[i]\n",
    "    adata.obs[\"tech\"] = \"v2rna\"\n",
    "    list_adata.append(adata)\n",
    "    \n",
    "adata = concatenate_adatas(list_adata)\n",
    "\n",
    "sc.pp.filter_cells(adata, min_genes=20)  #lower than usual\n",
    "sc.pp.filter_genes(adata, min_cells=3)\n",
    "\n",
    "adata.layers[\"counts\"] = adata.X.copy() # preserve counts\n",
    "sc.pp.normalize_total(adata, target_sum=1e4)\n",
    "sc.pp.log1p(adata)\n",
    "adata.raw = adata # freeze the state in `.raw`\n",
    "\n",
    "scvi.data.setup_anndata(\n",
    "    adata,\n",
    "    layer=\"counts\"\n",
    ")"
   ]
  },
  {
   "cell_type": "markdown",
   "metadata": {},
   "source": [
    "## Train Model With B-Cell Data"
   ]
  },
  {
   "cell_type": "code",
   "execution_count": 10,
   "metadata": {},
   "outputs": [
    {
     "ename": "AttributeError",
     "evalue": "module 'scvi.model' has no attribute 'HYBRIDVI'",
     "output_type": "error",
     "traceback": [
      "\u001b[0;31m---------------------------------------------------------------------------\u001b[0m",
      "\u001b[0;31mAttributeError\u001b[0m                            Traceback (most recent call last)",
      "\u001b[0;32m/var/folders/wp/13tt27g107v6hmkj5gntjlfc0000gn/T/ipykernel_5243/2283823952.py\u001b[0m in \u001b[0;36m<module>\u001b[0;34m\u001b[0m\n\u001b[1;32m     10\u001b[0m \u001b[0mname\u001b[0m\u001b[0;34m=\u001b[0m\u001b[0mcurrent_date\u001b[0m\u001b[0;34m+\u001b[0m\u001b[0mcurrent_time\u001b[0m\u001b[0;34m\u001b[0m\u001b[0;34m\u001b[0m\u001b[0m\n\u001b[1;32m     11\u001b[0m \u001b[0;34m\u001b[0m\u001b[0m\n\u001b[0;32m---> 12\u001b[0;31m \u001b[0mmodel\u001b[0m \u001b[0;34m=\u001b[0m \u001b[0mscvi\u001b[0m\u001b[0;34m.\u001b[0m\u001b[0mmodel\u001b[0m\u001b[0;34m.\u001b[0m\u001b[0mHYBRIDVI\u001b[0m\u001b[0;34m(\u001b[0m\u001b[0madata\u001b[0m\u001b[0;34m)\u001b[0m\u001b[0;34m\u001b[0m\u001b[0;34m\u001b[0m\u001b[0m\n\u001b[0m\u001b[1;32m     13\u001b[0m \u001b[0;32mif\u001b[0m \u001b[0;34m(\u001b[0m\u001b[0mpath\u001b[0m\u001b[0;34m.\u001b[0m\u001b[0mexists\u001b[0m\u001b[0;34m(\u001b[0m\u001b[0;34m\"../saved_model/\"\u001b[0m\u001b[0;34m)\u001b[0m\u001b[0;34m)\u001b[0m\u001b[0;34m:\u001b[0m\u001b[0;34m\u001b[0m\u001b[0;34m\u001b[0m\u001b[0m\n\u001b[1;32m     14\u001b[0m     \u001b[0mmodel\u001b[0m \u001b[0;34m=\u001b[0m \u001b[0mtorch\u001b[0m\u001b[0;34m.\u001b[0m\u001b[0mload\u001b[0m\u001b[0;34m(\u001b[0m\u001b[0;34m'../saved_model/'\u001b[0m\u001b[0;34m+\u001b[0m\u001b[0mname\u001b[0m\u001b[0;34m+\u001b[0m\u001b[0;34m'hybridvae.model.pkl'\u001b[0m\u001b[0;34m)\u001b[0m\u001b[0;34m\u001b[0m\u001b[0;34m\u001b[0m\u001b[0m\n",
      "\u001b[0;31mAttributeError\u001b[0m: module 'scvi.model' has no attribute 'HYBRIDVI'"
     ]
    }
   ],
   "source": [
    "import torch\n",
    "from datetime import datetime\n",
    "from datetime import date\n",
    "\n",
    "today = date.today()\n",
    "now = datetime.now()\n",
    "# dd/mm/YY\n",
    "current_date = today.strftime(\"%d_%m_%Y\")\n",
    "current_time = now.strftime(\"%H_%M\")\n",
    "name=current_date+current_time\n",
    "\n",
    "model = scvi.model.HYBRIDVI(adata)\n",
    "if (path.exists(\"../saved_model/\")):\n",
    "    model = torch.load('../saved_model/'+name+'hybridvae.model.pkl')\n",
    "else:\n",
    "    model.train()\n",
    "    torch.save(model,'../saved_model/'+name+'hybridvae.model.pkl')"
   ]
  }
 ],
 "metadata": {
  "interpreter": {
   "hash": "d080ff20444b30bc82bc3f91f9dc3595d595af092ff2cc5d6ed0494ffa80b51b"
  },
  "kernelspec": {
   "display_name": "Python 3.8.12 64-bit ('scvi_tools': conda)",
   "language": "python",
   "name": "python3"
  },
  "language_info": {
   "codemirror_mode": {
    "name": "ipython",
    "version": 3
   },
   "file_extension": ".py",
   "mimetype": "text/x-python",
   "name": "python",
   "nbconvert_exporter": "python",
   "pygments_lexer": "ipython3",
   "version": "3.8.12"
  },
  "orig_nbformat": 4
 },
 "nbformat": 4,
 "nbformat_minor": 2
}
